{
 "cells": [
  {
   "cell_type": "code",
   "execution_count": 1,
   "metadata": {},
   "outputs": [],
   "source": [
    "from pathlib import Path\n",
    "from collections import namedtuple\n",
    "\n",
    "import numpy as np\n",
    "import matplotlib.pyplot as plt\n",
    "from pyometiff import OMETIFFWriter\n",
    "import webknossos as wk\n",
    "\n",
    "import dask.array as da\n",
    "\n",
    "import pandas as pd\n",
    "from skimage.measure import label, regionprops_table"
   ]
  },
  {
   "cell_type": "code",
   "execution_count": 2,
   "metadata": {},
   "outputs": [],
   "source": [
    "# this comes from the WEBKNOSSOS website, under the user settings\n",
    "AUTH_TOKEN = \"1mng65J7d-5IVFmfJoF4rw\" # from gisela\n",
    "WK_TIMEOUT=\"3600\" # in seconds\n",
    "ORG_ID = \"83d574429f8bc523\" # gisela's webknossos\n",
    "dsets = (\"60_2_6R_crop1\", \"GN60_2_5R_crop1\", \"60_2_2L_crop1_\")\n",
    "DATASET_1 = \"60_2_5R\"\n",
    "DATASET_2 = \"60_2_3L\"\n",
    "Annotation = namedtuple(\"Annotation\", [\"ID\", \"Dataset\", \"Name\"])\n",
    "sample1   = Annotation(\"6644c04d0100004a01fa11af\", DATASET_1,\"60_2_5R\")\n",
    "sample2    = Annotation(\"664316880100008a049e890e\", DATASET_2,\"60_2_3L\")"
   ]
  },
  {
   "cell_type": "code",
   "execution_count": 3,
   "metadata": {},
   "outputs": [
    {
     "name": "stderr",
     "output_type": "stream",
     "text": [
      "c:\\Users\\rafaelCCI\\mambaforge\\envs\\COMULIS\\lib\\site-packages\\webknossos\\annotation\\annotation.py:455: UserWarning: [INFO] Omitting the volume layer annotation data for layers ['Myelin', 'Mitochondria', 'Dystrophic_myelin', 'Axon'], as their location is not referenced in the NML.\n",
      "  warnings.warn(\n"
     ]
    }
   ],
   "source": [
    "# the dataset url comes from the WEBKNOSSOS website, open the image of interest from the dashboard and check\n",
    "# I removed the view information\n",
    "\n",
    "ANNOTATION_ID = sample1.ID\n",
    "DATASET_NAME = sample1.Dataset\n",
    "with wk.webknossos_context(token=AUTH_TOKEN):\n",
    "    ds = wk.Dataset.open_remote(dataset_name_or_url=DATASET_NAME, organization_id=ORG_ID)\n",
    "    img_layer = ds.get_color_layers()\n",
    "    assert len(img_layer) == 1, \"more than an image, this is unexpected for this project\"\n",
    "    img_layer = img_layer[0]\n",
    "    annotations = wk.Annotation.open_as_remote_dataset(annotation_id_or_url=ANNOTATION_ID)\n",
    "    lbl_layers = annotations.get_segmentation_layers()\n",
    "    #dataset = wk.Dataset.open_remote(DATASET_URL)\n",
    "    #img_data = dataset.get_color_layer().get_finest_mag().read()"
   ]
  },
  {
   "cell_type": "code",
   "execution_count": 4,
   "metadata": {},
   "outputs": [
    {
     "name": "stdout",
     "output_type": "stream",
     "text": [
      "Layer('60_2_5R', dtype_per_channel=uint8, num_channels=1)\n",
      "image size in pixels [24789 23068     1]\n",
      "voxel size in nm: (5.0, 5.0, 70.0)\n",
      "[Mag(1), Mag(2-2-1), Mag(4-4-1), Mag(8-8-1), Mag(16-16-1), Mag(32-32-1), Mag(64-64-1), Mag(128-128-1), Mag(256-256-1)]\n"
     ]
    },
    {
     "data": {
      "text/plain": [
       "Pixel_size_nm(x=10.0, y=10.0, z=70.0, MAG=Mag(2-2-1), unit='nm')"
      ]
     },
     "execution_count": 4,
     "metadata": {},
     "output_type": "execute_result"
    }
   ],
   "source": [
    "Pixel_size = namedtuple(\"Pixel_size_nm\", [\"x\", \"y\", \"z\", \"MAG\", \"unit\"])\n",
    "\n",
    "voxel_size = ds.voxel_size\n",
    "print(img_layer)\n",
    "print(f'image size in pixels {img_layer.bounding_box.size.to_np()}')\n",
    "print(f'voxel size in nm: {ds.voxel_size}')\n",
    "\n",
    "mag_list = list(img_layer.mags.keys())\n",
    "print(mag_list)\n",
    "MAG = mag_list[1]\n",
    "pSize = Pixel_size(voxel_size[0] * MAG.x, voxel_size[1] * MAG.y, voxel_size[2] * MAG.z, MAG=MAG, unit=\"nm\")\n",
    "pSize\n"
   ]
  },
  {
   "cell_type": "code",
   "execution_count": 5,
   "metadata": {},
   "outputs": [
    {
     "name": "stdout",
     "output_type": "stream",
     "text": [
      "Pixel_size_nm(x=80.0, y=80.0, z=70.0, MAG=Mag(16-16-1), unit='nm')\n",
      "(1, 1550, 1442, 1)\n"
     ]
    },
    {
     "data": {
      "text/html": [
       "<table>\n",
       "    <tr>\n",
       "        <td>\n",
       "            <table style=\"border-collapse: collapse;\">\n",
       "                <thead>\n",
       "                    <tr>\n",
       "                        <td> </td>\n",
       "                        <th> Array </th>\n",
       "                        <th> Chunk </th>\n",
       "                    </tr>\n",
       "                </thead>\n",
       "                <tbody>\n",
       "                    \n",
       "                    <tr>\n",
       "                        <th> Bytes </th>\n",
       "                        <td> 2.13 MiB </td>\n",
       "                        <td> 256.00 kiB </td>\n",
       "                    </tr>\n",
       "                    \n",
       "                    <tr>\n",
       "                        <th> Shape </th>\n",
       "                        <td> (1, 1, 1442, 1550) </td>\n",
       "                        <td> (1, 1, 512, 512) </td>\n",
       "                    </tr>\n",
       "                    <tr>\n",
       "                        <th> Dask graph </th>\n",
       "                        <td colspan=\"2\"> 12 chunks in 1 graph layer </td>\n",
       "                    </tr>\n",
       "                    <tr>\n",
       "                        <th> Data type </th>\n",
       "                        <td colspan=\"2\"> uint8 numpy.ndarray </td>\n",
       "                    </tr>\n",
       "                </tbody>\n",
       "            </table>\n",
       "        </td>\n",
       "        <td>\n",
       "        <svg width=\"374\" height=\"176\" style=\"stroke:rgb(0,0,0);stroke-width:1\" >\n",
       "\n",
       "  <!-- Horizontal lines -->\n",
       "  <line x1=\"0\" y1=\"0\" x2=\"25\" y2=\"0\" style=\"stroke-width:2\" />\n",
       "  <line x1=\"0\" y1=\"25\" x2=\"25\" y2=\"25\" style=\"stroke-width:2\" />\n",
       "\n",
       "  <!-- Vertical lines -->\n",
       "  <line x1=\"0\" y1=\"0\" x2=\"0\" y2=\"25\" style=\"stroke-width:2\" />\n",
       "  <line x1=\"25\" y1=\"0\" x2=\"25\" y2=\"25\" style=\"stroke-width:2\" />\n",
       "\n",
       "  <!-- Colored Rectangle -->\n",
       "  <polygon points=\"0.0,0.0 25.412616514582485,0.0 25.412616514582485,25.412616514582485 0.0,25.412616514582485\" style=\"fill:#ECB172A0;stroke-width:0\"/>\n",
       "\n",
       "  <!-- Text -->\n",
       "  <text x=\"12.706308\" y=\"45.412617\" font-size=\"1.0rem\" font-weight=\"100\" text-anchor=\"middle\" >1</text>\n",
       "  <text x=\"45.412617\" y=\"12.706308\" font-size=\"1.0rem\" font-weight=\"100\" text-anchor=\"middle\" transform=\"rotate(0,45.412617,12.706308)\">1</text>\n",
       "\n",
       "\n",
       "  <!-- Horizontal lines -->\n",
       "  <line x1=\"95\" y1=\"0\" x2=\"109\" y2=\"14\" style=\"stroke-width:2\" />\n",
       "  <line x1=\"95\" y1=\"39\" x2=\"109\" y2=\"54\" />\n",
       "  <line x1=\"95\" y1=\"79\" x2=\"109\" y2=\"94\" />\n",
       "  <line x1=\"95\" y1=\"111\" x2=\"109\" y2=\"126\" style=\"stroke-width:2\" />\n",
       "\n",
       "  <!-- Vertical lines -->\n",
       "  <line x1=\"95\" y1=\"0\" x2=\"95\" y2=\"111\" style=\"stroke-width:2\" />\n",
       "  <line x1=\"109\" y1=\"14\" x2=\"109\" y2=\"126\" style=\"stroke-width:2\" />\n",
       "\n",
       "  <!-- Colored Rectangle -->\n",
       "  <polygon points=\"95.0,0.0 109.9485979497544,14.948597949754403 109.9485979497544,126.58730762717376 95.0,111.63870967741936\" style=\"fill:#ECB172A0;stroke-width:0\"/>\n",
       "\n",
       "  <!-- Horizontal lines -->\n",
       "  <line x1=\"95\" y1=\"0\" x2=\"215\" y2=\"0\" style=\"stroke-width:2\" />\n",
       "  <line x1=\"109\" y1=\"14\" x2=\"229\" y2=\"14\" style=\"stroke-width:2\" />\n",
       "\n",
       "  <!-- Vertical lines -->\n",
       "  <line x1=\"95\" y1=\"0\" x2=\"109\" y2=\"14\" style=\"stroke-width:2\" />\n",
       "  <line x1=\"134\" y1=\"0\" x2=\"149\" y2=\"14\" />\n",
       "  <line x1=\"174\" y1=\"0\" x2=\"189\" y2=\"14\" />\n",
       "  <line x1=\"213\" y1=\"0\" x2=\"228\" y2=\"14\" />\n",
       "  <line x1=\"215\" y1=\"0\" x2=\"229\" y2=\"14\" style=\"stroke-width:2\" />\n",
       "\n",
       "  <!-- Colored Rectangle -->\n",
       "  <polygon points=\"95.0,0.0 215.0,0.0 229.9485979497544,14.948597949754403 109.9485979497544,14.948597949754403\" style=\"fill:#ECB172A0;stroke-width:0\"/>\n",
       "\n",
       "  <!-- Horizontal lines -->\n",
       "  <line x1=\"109\" y1=\"14\" x2=\"229\" y2=\"14\" style=\"stroke-width:2\" />\n",
       "  <line x1=\"109\" y1=\"54\" x2=\"229\" y2=\"54\" />\n",
       "  <line x1=\"109\" y1=\"94\" x2=\"229\" y2=\"94\" />\n",
       "  <line x1=\"109\" y1=\"126\" x2=\"229\" y2=\"126\" style=\"stroke-width:2\" />\n",
       "\n",
       "  <!-- Vertical lines -->\n",
       "  <line x1=\"109\" y1=\"14\" x2=\"109\" y2=\"126\" style=\"stroke-width:2\" />\n",
       "  <line x1=\"149\" y1=\"14\" x2=\"149\" y2=\"126\" />\n",
       "  <line x1=\"189\" y1=\"14\" x2=\"189\" y2=\"126\" />\n",
       "  <line x1=\"228\" y1=\"14\" x2=\"228\" y2=\"126\" />\n",
       "  <line x1=\"229\" y1=\"14\" x2=\"229\" y2=\"126\" style=\"stroke-width:2\" />\n",
       "\n",
       "  <!-- Colored Rectangle -->\n",
       "  <polygon points=\"109.9485979497544,14.948597949754403 229.9485979497544,14.948597949754403 229.9485979497544,126.58730762717376 109.9485979497544,126.58730762717376\" style=\"fill:#ECB172A0;stroke-width:0\"/>\n",
       "\n",
       "  <!-- Text -->\n",
       "  <text x=\"169.948598\" y=\"146.587308\" font-size=\"1.0rem\" font-weight=\"100\" text-anchor=\"middle\" >1550</text>\n",
       "  <text x=\"249.948598\" y=\"70.767953\" font-size=\"1.0rem\" font-weight=\"100\" text-anchor=\"middle\" transform=\"rotate(-90,249.948598,70.767953)\">1442</text>\n",
       "  <text x=\"92.474299\" y=\"139.113009\" font-size=\"1.0rem\" font-weight=\"100\" text-anchor=\"middle\" transform=\"rotate(45,92.474299,139.113009)\">1</text>\n",
       "</svg>\n",
       "        </td>\n",
       "    </tr>\n",
       "</table>"
      ],
      "text/plain": [
       "dask.array<array, shape=(1, 1, 1442, 1550), dtype=uint8, chunksize=(1, 1, 512, 512), chunktype=numpy.ndarray>"
      ]
     },
     "execution_count": 5,
     "metadata": {},
     "output_type": "execute_result"
    }
   ],
   "source": [
    "MAG = mag_list[4]\n",
    "pSize = Pixel_size(voxel_size[0] * MAG.x, voxel_size[1] * MAG.y, voxel_size[2] * MAG.z, MAG=MAG, unit=\"nm\")\n",
    "print(pSize)\n",
    "with wk.webknossos_context(token=AUTH_TOKEN, timeout=WK_TIMEOUT):\n",
    "    img_data = img_layer.get_mag(pSize.MAG).read()\n",
    "print(img_data.shape)\n",
    "img_dask = da.from_array(np.swapaxes(img_data,-1,-3), chunks=(1,1,512,512))\n",
    "img_dask"
   ]
  },
  {
   "cell_type": "code",
   "execution_count": 6,
   "metadata": {},
   "outputs": [
    {
     "name": "stdout",
     "output_type": "stream",
     "text": [
      "e:\\PROJECTS\\CCI\\Gisela\\gisela_ds_60_2_5R_mag_16-16-1.ome.tiff\n"
     ]
    }
   ],
   "source": [
    "output_fpath = Path.cwd().joinpath(\"gisela_ds_\" + img_layer.name + \"_mag_\" + str(pSize.MAG) + \".ome.tiff\")\n",
    "print(output_fpath)\n",
    "\n",
    "assert pSize.unit == \"nm\", \"should be nm for this to work\"\n",
    "metadata_dict = {\n",
    "    \"PhysicalSizeX\" : str(pSize.x/1000),\n",
    "    \"PhysicalSizeXUnit\" : \"µm\",\n",
    "    \"PhysicalSizeY\" : str(pSize.y/1000),\n",
    "    \"PhysicalSizeYUnit\" : \"µm\",\n",
    "    \"PhysicalSizeZ\" : str(pSize.z/1000),\n",
    "    \"PhysicalSizeZUnit\" : \"µm\",\n",
    "    \"Channels\" : {\n",
    "        \"SEM\" : {\n",
    "            \"Name\" : \"BSD\",\n",
    "            \"SamplesPerPixel\": 1,\n",
    "        },\n",
    "    }\n",
    "}\n",
    "\n",
    "# a string describing the dimension ordering\n",
    "dimension_order = \"CZYX\"\n",
    "\n",
    "writer = OMETIFFWriter(\n",
    "    fpath=output_fpath,\n",
    "    dimension_order=dimension_order,\n",
    "    array=img_dask,\n",
    "    metadata=metadata_dict,\n",
    "    explicit_tiffdata=False)\n",
    "\n",
    "writer.write()"
   ]
  },
  {
   "cell_type": "code",
   "execution_count": 15,
   "metadata": {},
   "outputs": [
    {
     "name": "stdout",
     "output_type": "stream",
     "text": [
      "Layer('Myelin', dtype_per_channel=uint32, num_channels=1)\n",
      "Myelin\n",
      "[24789 23068     1]\n",
      "Layer('Mitochondria', dtype_per_channel=uint32, num_channels=1)\n",
      "Mitochondria\n",
      "[24789 23068     1]\n",
      "Layer('Dystrophic_myelin', dtype_per_channel=uint32, num_channels=1)\n",
      "Dystrophic_myelin\n",
      "[24789 23068     1]\n",
      "Layer('Axon', dtype_per_channel=uint32, num_channels=1)\n",
      "Axon\n",
      "[24789 23068     1]\n"
     ]
    }
   ],
   "source": [
    "for lbl in lbl_layers:\n",
    "    print(lbl)\n",
    "    print(lbl.name)\n",
    "    print(lbl.bounding_box.size.to_np())"
   ]
  },
  {
   "cell_type": "code",
   "execution_count": 25,
   "metadata": {},
   "outputs": [
    {
     "name": "stdout",
     "output_type": "stream",
     "text": [
      "0\n",
      "[ 0  1  2  3  4  5  6  7  8  9 10 11 12 13 14 15 16 17 18 19 20 21 22 23\n",
      " 24 25 26 27 28 29 30 31 32 33 34 35 36 37 38 39 40 41 42 43 44 45 46 47\n",
      " 48 49 50]\n"
     ]
    },
    {
     "data": {
      "text/html": [
       "<table>\n",
       "    <tr>\n",
       "        <td>\n",
       "            <table style=\"border-collapse: collapse;\">\n",
       "                <thead>\n",
       "                    <tr>\n",
       "                        <td> </td>\n",
       "                        <th> Array </th>\n",
       "                        <th> Chunk </th>\n",
       "                    </tr>\n",
       "                </thead>\n",
       "                <tbody>\n",
       "                    \n",
       "                    <tr>\n",
       "                        <th> Bytes </th>\n",
       "                        <td> 2.13 MiB </td>\n",
       "                        <td> 256.00 kiB </td>\n",
       "                    </tr>\n",
       "                    \n",
       "                    <tr>\n",
       "                        <th> Shape </th>\n",
       "                        <td> (1, 1, 1442, 1550) </td>\n",
       "                        <td> (1, 1, 512, 512) </td>\n",
       "                    </tr>\n",
       "                    <tr>\n",
       "                        <th> Dask graph </th>\n",
       "                        <td colspan=\"2\"> 12 chunks in 1 graph layer </td>\n",
       "                    </tr>\n",
       "                    <tr>\n",
       "                        <th> Data type </th>\n",
       "                        <td colspan=\"2\"> uint8 numpy.ndarray </td>\n",
       "                    </tr>\n",
       "                </tbody>\n",
       "            </table>\n",
       "        </td>\n",
       "        <td>\n",
       "        <svg width=\"374\" height=\"176\" style=\"stroke:rgb(0,0,0);stroke-width:1\" >\n",
       "\n",
       "  <!-- Horizontal lines -->\n",
       "  <line x1=\"0\" y1=\"0\" x2=\"25\" y2=\"0\" style=\"stroke-width:2\" />\n",
       "  <line x1=\"0\" y1=\"25\" x2=\"25\" y2=\"25\" style=\"stroke-width:2\" />\n",
       "\n",
       "  <!-- Vertical lines -->\n",
       "  <line x1=\"0\" y1=\"0\" x2=\"0\" y2=\"25\" style=\"stroke-width:2\" />\n",
       "  <line x1=\"25\" y1=\"0\" x2=\"25\" y2=\"25\" style=\"stroke-width:2\" />\n",
       "\n",
       "  <!-- Colored Rectangle -->\n",
       "  <polygon points=\"0.0,0.0 25.412616514582485,0.0 25.412616514582485,25.412616514582485 0.0,25.412616514582485\" style=\"fill:#ECB172A0;stroke-width:0\"/>\n",
       "\n",
       "  <!-- Text -->\n",
       "  <text x=\"12.706308\" y=\"45.412617\" font-size=\"1.0rem\" font-weight=\"100\" text-anchor=\"middle\" >1</text>\n",
       "  <text x=\"45.412617\" y=\"12.706308\" font-size=\"1.0rem\" font-weight=\"100\" text-anchor=\"middle\" transform=\"rotate(0,45.412617,12.706308)\">1</text>\n",
       "\n",
       "\n",
       "  <!-- Horizontal lines -->\n",
       "  <line x1=\"95\" y1=\"0\" x2=\"109\" y2=\"14\" style=\"stroke-width:2\" />\n",
       "  <line x1=\"95\" y1=\"39\" x2=\"109\" y2=\"54\" />\n",
       "  <line x1=\"95\" y1=\"79\" x2=\"109\" y2=\"94\" />\n",
       "  <line x1=\"95\" y1=\"111\" x2=\"109\" y2=\"126\" style=\"stroke-width:2\" />\n",
       "\n",
       "  <!-- Vertical lines -->\n",
       "  <line x1=\"95\" y1=\"0\" x2=\"95\" y2=\"111\" style=\"stroke-width:2\" />\n",
       "  <line x1=\"109\" y1=\"14\" x2=\"109\" y2=\"126\" style=\"stroke-width:2\" />\n",
       "\n",
       "  <!-- Colored Rectangle -->\n",
       "  <polygon points=\"95.0,0.0 109.9485979497544,14.948597949754403 109.9485979497544,126.58730762717376 95.0,111.63870967741936\" style=\"fill:#ECB172A0;stroke-width:0\"/>\n",
       "\n",
       "  <!-- Horizontal lines -->\n",
       "  <line x1=\"95\" y1=\"0\" x2=\"215\" y2=\"0\" style=\"stroke-width:2\" />\n",
       "  <line x1=\"109\" y1=\"14\" x2=\"229\" y2=\"14\" style=\"stroke-width:2\" />\n",
       "\n",
       "  <!-- Vertical lines -->\n",
       "  <line x1=\"95\" y1=\"0\" x2=\"109\" y2=\"14\" style=\"stroke-width:2\" />\n",
       "  <line x1=\"134\" y1=\"0\" x2=\"149\" y2=\"14\" />\n",
       "  <line x1=\"174\" y1=\"0\" x2=\"189\" y2=\"14\" />\n",
       "  <line x1=\"213\" y1=\"0\" x2=\"228\" y2=\"14\" />\n",
       "  <line x1=\"215\" y1=\"0\" x2=\"229\" y2=\"14\" style=\"stroke-width:2\" />\n",
       "\n",
       "  <!-- Colored Rectangle -->\n",
       "  <polygon points=\"95.0,0.0 215.0,0.0 229.9485979497544,14.948597949754403 109.9485979497544,14.948597949754403\" style=\"fill:#ECB172A0;stroke-width:0\"/>\n",
       "\n",
       "  <!-- Horizontal lines -->\n",
       "  <line x1=\"109\" y1=\"14\" x2=\"229\" y2=\"14\" style=\"stroke-width:2\" />\n",
       "  <line x1=\"109\" y1=\"54\" x2=\"229\" y2=\"54\" />\n",
       "  <line x1=\"109\" y1=\"94\" x2=\"229\" y2=\"94\" />\n",
       "  <line x1=\"109\" y1=\"126\" x2=\"229\" y2=\"126\" style=\"stroke-width:2\" />\n",
       "\n",
       "  <!-- Vertical lines -->\n",
       "  <line x1=\"109\" y1=\"14\" x2=\"109\" y2=\"126\" style=\"stroke-width:2\" />\n",
       "  <line x1=\"149\" y1=\"14\" x2=\"149\" y2=\"126\" />\n",
       "  <line x1=\"189\" y1=\"14\" x2=\"189\" y2=\"126\" />\n",
       "  <line x1=\"228\" y1=\"14\" x2=\"228\" y2=\"126\" />\n",
       "  <line x1=\"229\" y1=\"14\" x2=\"229\" y2=\"126\" style=\"stroke-width:2\" />\n",
       "\n",
       "  <!-- Colored Rectangle -->\n",
       "  <polygon points=\"109.9485979497544,14.948597949754403 229.9485979497544,14.948597949754403 229.9485979497544,126.58730762717376 109.9485979497544,126.58730762717376\" style=\"fill:#ECB172A0;stroke-width:0\"/>\n",
       "\n",
       "  <!-- Text -->\n",
       "  <text x=\"169.948598\" y=\"146.587308\" font-size=\"1.0rem\" font-weight=\"100\" text-anchor=\"middle\" >1550</text>\n",
       "  <text x=\"249.948598\" y=\"70.767953\" font-size=\"1.0rem\" font-weight=\"100\" text-anchor=\"middle\" transform=\"rotate(-90,249.948598,70.767953)\">1442</text>\n",
       "  <text x=\"92.474299\" y=\"139.113009\" font-size=\"1.0rem\" font-weight=\"100\" text-anchor=\"middle\" transform=\"rotate(45,92.474299,139.113009)\">1</text>\n",
       "</svg>\n",
       "        </td>\n",
       "    </tr>\n",
       "</table>"
      ],
      "text/plain": [
       "dask.array<array, shape=(1, 1, 1442, 1550), dtype=uint8, chunksize=(1, 1, 512, 512), chunktype=numpy.ndarray>"
      ]
     },
     "execution_count": 25,
     "metadata": {},
     "output_type": "execute_result"
    }
   ],
   "source": [
    "annotation_name = \"Myelin\"\n",
    "annotation_idx = 0\n",
    "for lbl in lbl_layers:\n",
    "    if lbl.name == annotation_name:\n",
    "        annotation_idx = annotation_idx\n",
    "        break\n",
    "    else:\n",
    "        annotation_idx += 1\n",
    "\n",
    "assert annotation_idx < len(lbl_layers), \"cant find layer\"\n",
    "with wk.webknossos_context(token=AUTH_TOKEN):\n",
    "    lbl_data = lbl_layers[annotation_idx].get_mag(pSize.MAG).read()\n",
    "unique_lbls = np.unique(lbl_data)\n",
    "print(unique_lbls)\n",
    "\n",
    "\n",
    "if np.max(unique_lbls) < 512:\n",
    "    lbl_data = lbl_data.astype(np.uint8)\n",
    "\n",
    "lbl_dask = da.from_array(np.swapaxes(lbl_data,-1,-3), chunks=(1,5,512,512))\n",
    "lbl_dask"
   ]
  },
  {
   "cell_type": "code",
   "execution_count": 26,
   "metadata": {},
   "outputs": [
    {
     "name": "stdout",
     "output_type": "stream",
     "text": [
      "e:\\PROJECTS\\CCI\\Gisela\\gisela_ds_60_2_5R_mag_16-16-1_lbl_Myelin.ome.tiff\n"
     ]
    }
   ],
   "source": [
    "output_fpath = Path.cwd().joinpath(\"gisela_ds_\" + img_layer.name + \"_mag_\" + str(pSize.MAG) + \"_lbl_\" + annotation_name + \".ome.tiff\")\n",
    "print(output_fpath)\n",
    "\n",
    "assert pSize.unit == \"nm\", \"should be nm for this to work\"\n",
    "metadata_dict = {\n",
    "    \"PhysicalSizeX\" : str(pSize.x/1000),\n",
    "    \"PhysicalSizeXUnit\" : \"µm\",\n",
    "    \"PhysicalSizeY\" : str(pSize.y/1000),\n",
    "    \"PhysicalSizeYUnit\" : \"µm\",\n",
    "    \"PhysicalSizeZ\" : str(pSize.z/1000),\n",
    "    \"PhysicalSizeZUnit\" : \"µm\",\n",
    "    \"Channels\" : {\n",
    "        \"SEM\" : {\n",
    "            \"Name\" : annotation_name,\n",
    "            \"SamplesPerPixel\": 1,\n",
    "        },\n",
    "    }\n",
    "}\n",
    "\n",
    "# a string describing the dimension ordering\n",
    "dimension_order = \"CZYX\"\n",
    "\n",
    "writer = OMETIFFWriter(\n",
    "    fpath=output_fpath,\n",
    "    dimension_order=dimension_order,\n",
    "    array=lbl_dask,\n",
    "    metadata=metadata_dict,\n",
    "    explicit_tiffdata=False)\n",
    "\n",
    "writer.write()"
   ]
  },
  {
   "cell_type": "code",
   "execution_count": 22,
   "metadata": {},
   "outputs": [],
   "source": [
    "import napari"
   ]
  },
  {
   "cell_type": "code",
   "execution_count": 27,
   "metadata": {},
   "outputs": [
    {
     "data": {
      "text/plain": [
       "<Labels layer 'Myelin' at 0x1e2b71d0f10>"
      ]
     },
     "execution_count": 27,
     "metadata": {},
     "output_type": "execute_result"
    }
   ],
   "source": [
    "viewer = napari.view_image(data=img_dask,channel_axis=0,name=img_layer.name)\n",
    "viewer.add_labels(lbl_dask, name=annotation_name)"
   ]
  },
  {
   "cell_type": "code",
   "execution_count": null,
   "metadata": {},
   "outputs": [],
   "source": [
    "# run connected component analysis\n",
    "#lbl = label(mask)\n",
    "\n",
    "properties = ['label', 'area','eccentricity','solidity','intensity_mean',\n",
    "              'bbox','axis_minor_length','axis_major_length','feret_diameter_max']\n",
    "table = regionprops_table(label_image=seg.squeeze(),\n",
    "                          intensity_image=img_data.squeeze(),\n",
    "                          properties=properties)\n",
    "table = pd.DataFrame(table)\n",
    "print(table.head())\n",
    "print(table.describe())\n",
    "table.hist(column='area', figsize=(4, 4))"
   ]
  },
  {
   "cell_type": "code",
   "execution_count": null,
   "metadata": {},
   "outputs": [],
   "source": [
    "n_neu = table.shape[0]\n",
    "print(f\"number of segmented objects: {n_neu}\")"
   ]
  },
  {
   "cell_type": "code",
   "execution_count": null,
   "metadata": {},
   "outputs": [],
   "source": [
    "from skimage.morphology import medial_axis, binary_opening\n",
    "from skimage.morphology import disk\n",
    "from functools import partial\n",
    "\n",
    "def get_roi(table_col, delta=50):\n",
    "    minr = int(table_col['bbox-0']-delta)\n",
    "    maxr = int(table_col['bbox-2']+delta)\n",
    "    minc = int(table_col['bbox-1']-delta)\n",
    "    maxc = int(table_col['bbox-3']+delta)\n",
    "\n",
    "    return (minr, maxr, minc, maxc)\n",
    "\n",
    "def get_AR(table_col):\n",
    "    # simple calc\n",
    "    return table_col['axis_major_length']/table_col['axis_minor_length']\n",
    "\n",
    "def get_BW_im(table_col, raw_data, seg):\n",
    "    lbl_id = table_col['label']\n",
    "    idx_roi = get_roi(table_col)\n",
    "\n",
    "    im  = raw_data.squeeze()[idx_roi[0]:idx_roi[1],idx_roi[2]:idx_roi[3]]\n",
    "    lbl =  seg.squeeze()[idx_roi[0]:idx_roi[1],idx_roi[2]:idx_roi[3]]\n",
    "    BW = lbl==lbl_id\n",
    "\n",
    "    return BW, im\n",
    "\n",
    "def get_width(BW, disk_diam=5):\n",
    "    # simple calculation of with based of skeleton and distance transform\n",
    "    footprint = disk(disk_diam)\n",
    "    opened = binary_opening(BW, footprint)\n",
    "    # Compute the medial axis (skeleton) and the distance transform\n",
    "    skel, distance = medial_axis(opened, return_distance=True)\n",
    "\n",
    "    # Distance to the background for pixels of the skeleton\n",
    "    dist_on_skel = distance * skel\n",
    "    w = dist_on_skel[dist_on_skel>0]\n",
    "\n",
    "    return np.median(w)*2\n",
    "\n",
    "def get_width_table(table_col, raw_data, seg, diam):\n",
    "\n",
    "    BW, im = get_BW_im(table_col, raw_data, seg)\n",
    "\n",
    "    myalin_w = get_width(BW, disk_diam=diam)\n",
    "\n",
    "    return myalin_w"
   ]
  },
  {
   "cell_type": "code",
   "execution_count": null,
   "metadata": {},
   "outputs": [],
   "source": [
    "table['AR'] = table.apply(get_AR, axis='columns',result_type='expand')\n",
    "#table[['minr', 'maxr', 'minc', 'maxc']] = table.apply(partial(get_roi, delta=50), axis='columns',result_type='expand')\n",
    "table['width'] = table.apply(partial(get_width_table, raw_data=img_data, seg=seg, diam=5), axis='columns',result_type='expand')\n",
    "table['Image_name'] = current_dset[2]\n",
    "table.sample(5)"
   ]
  },
  {
   "cell_type": "code",
   "execution_count": null,
   "metadata": {},
   "outputs": [],
   "source": [
    "table.to_csv(current_dset[2] + \"_morphometrics.csv\", sep='\\t')\n",
    "table.to_excel(current_dset[2] + \"_morphometrics.xlsx\", sheet_name=current_dset[2])"
   ]
  }
 ],
 "metadata": {
  "kernelspec": {
   "display_name": "COMULIS",
   "language": "python",
   "name": "comulis"
  },
  "language_info": {
   "codemirror_mode": {
    "name": "ipython",
    "version": 3
   },
   "file_extension": ".py",
   "mimetype": "text/x-python",
   "name": "python",
   "nbconvert_exporter": "python",
   "pygments_lexer": "ipython3",
   "version": "3.10.14"
  }
 },
 "nbformat": 4,
 "nbformat_minor": 2
}
